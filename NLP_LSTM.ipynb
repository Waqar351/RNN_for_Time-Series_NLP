{
  "cells": [
    {
      "cell_type": "markdown",
      "metadata": {},
      "source": [
        "# <font color='blue'>**Sentiment analysis on Textual Data using LSTM**</font> \n",
        "\n",
        "<font color='grey'>**Sentiment analysis**</font> is a natural language processing (NLP) task that involves determining the sentiment expressed in a piece of text.\n",
        "\n",
        "\"I love this product!\" ---> <font color='green'>Positive</font>\n",
        "\n",
        "\n",
        "\"This is terrible.\"    ---> <font color='red'>Negative</font>"
      ]
    },
    {
      "cell_type": "markdown",
      "metadata": {},
      "source": [
        "### Dataset\n",
        "\n",
        "IMDB dataset having 50K movie reviews for natural language processing or Text analytics.\n",
        "\n",
        "For detailed information about the dataset, please refer to the [dataset documentation](https://ai.stanford.edu/~amaas/data/sentiment/)."
      ]
    },
    {
      "cell_type": "markdown",
      "metadata": {},
      "source": [
        "### <font color='blue'>Importing libraries</font>"
      ]
    },
    {
      "cell_type": "code",
      "execution_count": 1,
      "metadata": {
        "colab": {
          "base_uri": "https://localhost:8080/"
        },
        "id": "cyQYXHJHxt1o",
        "outputId": "72b2c151-058c-4d02-c190-7a723ab65b2e"
      },
      "outputs": [
        {
          "name": "stderr",
          "output_type": "stream",
          "text": [
            "[nltk_data] Downloading package stopwords to\n",
            "[nltk_data]     C:\\Users\\waqar\\AppData\\Roaming\\nltk_data...\n",
            "[nltk_data]   Package stopwords is already up-to-date!\n"
          ]
        }
      ],
      "source": [
        "import os\n",
        "import numpy as np\n",
        "import pandas as pd\n",
        "\n",
        "import matplotlib.pyplot as plt\n",
        "import seaborn as sns\n",
        "\n",
        "import re\n",
        "import string\n",
        "from collections import Counter\n",
        "from nltk.corpus import stopwords\n",
        "import nltk\n",
        "nltk.download('stopwords')\n",
        "stop_words = set(stopwords.words('english'))\n",
        "\n",
        "from sklearn.model_selection import train_test_split\n",
        "\n",
        "import torch\n",
        "from torch.utils.data import DataLoader, TensorDataset\n",
        "import torch.nn as nn"
      ]
    },
    {
      "cell_type": "markdown",
      "metadata": {
        "id": "8EwUuf-QyxcU"
      },
      "source": [
        "### <font color='blue'>**Load data**</font>"
      ]
    },
    {
      "cell_type": "code",
      "execution_count": 2,
      "metadata": {
        "colab": {
          "base_uri": "https://localhost:8080/",
          "height": 206
        },
        "id": "6QQfSBNgypL_",
        "outputId": "b5ce8bde-7285-4ef3-d90b-7ea2f043b871"
      },
      "outputs": [
        {
          "name": "stdout",
          "output_type": "stream",
          "text": [
            "                                              review sentiment\n",
            "0  One of the other reviewers has mentioned that ...  positive\n",
            "1  A wonderful little production. <br /><br />The...  positive\n",
            "2  I thought this was a wonderful way to spend ti...  positive\n",
            "3  Basically there's a family where a little boy ...  negative\n",
            "4  Petter Mattei's \"Love in the Time of Money\" is...  positive\n",
            "\n",
            " Shape of dataset:  (50000, 2)\n"
          ]
        }
      ],
      "source": [
        "# df = pd.read_csv('/content/drive/MyDrive/Post_doc_work/Seminar_RNN/data/IMDB_Dataset.csv')\n",
        "df = pd.read_csv('./data/IMDB_Dataset.csv')\n",
        "print(df.head())\n",
        "print('\\n Shape of dataset: ', np.shape(df))"
      ]
    },
    {
      "cell_type": "code",
      "execution_count": 3,
      "metadata": {
        "colab": {
          "base_uri": "https://localhost:8080/",
          "height": 482
        },
        "id": "hcaPL57j1VeD",
        "outputId": "bbf04299-c087-4063-af10-68a37927a2e1"
      },
      "outputs": [
        {
          "data": {
            "image/png": "[encoded data removed]",
            "text/plain": [
              "<Figure size 640x480 with 1 Axes>"
            ]
          },
          "metadata": {},
          "output_type": "display_data"
        }
      ],
      "source": [
        "X,y = df['review'].values,df['sentiment'].values\n",
        "\n",
        "dd = pd.Series(y).value_counts()    # Counts positive and negative sentiments\n",
        "sns.barplot(x=np.array(['negative','positive']),y=dd.values)\n",
        "plt.show()\n"
      ]
    },
    {
      "cell_type": "markdown",
      "metadata": {
        "id": "USy0vv136S-A"
      },
      "source": [
        "### <font color='blue'>**Data preprocessing**</font> \n",
        "\n",
        "- <font color='blue'>**Lowercasing**</font>: Convert to lower case\n",
        "- <font color='blue'>**Remove noise**</font>: Clean the text by removing punctuation, extra spaces, special characters, numbers, HTML tags, etc.\n",
        "- <font color='blue'>**Tokenization**</font>: Transform sentences into individual words or tokens\n",
        "- <font color='blue'>**Remove stop words**</font>: Remove common words (stop words) that do not carry significant meaning (e.g., 'is', 'and', 'the').\n",
        "- These words are then assigned a unique identifier, forming a dictionary for one-hot encoding.\n",
        "\n",
        "\n",
        "\"The movie was excellent, and I really enjoyed it!\" \n",
        "\n",
        "--> ['movie', 'excellent', 'really', 'enjoyed']\n"
      ]
    },
    {
      "cell_type": "code",
      "execution_count": 4,
      "metadata": {
        "colab": {
          "base_uri": "https://localhost:8080/",
          "height": 206
        },
        "id": "ZnHqySNQzjDz",
        "outputId": "0d8b6878-70ea-41ce-a374-8e9ea6035e62"
      },
      "outputs": [
        {
          "data": {
            "text/html": [
              "<div>\n",
              "<style scoped>\n",
              "    .dataframe tbody tr th:only-of-type {\n",
              "        vertical-align: middle;\n",
              "    }\n",
              "\n",
              "    .dataframe tbody tr th {\n",
              "        vertical-align: top;\n",
              "    }\n",
              "\n",
              "    .dataframe thead th {\n",
              "        text-align: right;\n",
              "    }\n",
              "</style>\n",
              "<table border=\"1\" class=\"dataframe\">\n",
              "  <thead>\n",
              "    <tr style=\"text-align: right;\">\n",
              "      <th></th>\n",
              "      <th>review</th>\n",
              "      <th>sentiment</th>\n",
              "      <th>cleaned_reviews</th>\n",
              "    </tr>\n",
              "  </thead>\n",
              "  <tbody>\n",
              "    <tr>\n",
              "      <th>0</th>\n",
              "      <td>One of the other reviewers has mentioned that ...</td>\n",
              "      <td>positive</td>\n",
              "      <td>one reviewers mentioned watching 1 oz episode ...</td>\n",
              "    </tr>\n",
              "    <tr>\n",
              "      <th>1</th>\n",
              "      <td>A wonderful little production. &lt;br /&gt;&lt;br /&gt;The...</td>\n",
              "      <td>positive</td>\n",
              "      <td>wonderful little production filming technique ...</td>\n",
              "    </tr>\n",
              "    <tr>\n",
              "      <th>2</th>\n",
              "      <td>I thought this was a wonderful way to spend ti...</td>\n",
              "      <td>positive</td>\n",
              "      <td>thought wonderful way spend time hot summer we...</td>\n",
              "    </tr>\n",
              "    <tr>\n",
              "      <th>3</th>\n",
              "      <td>Basically there's a family where a little boy ...</td>\n",
              "      <td>negative</td>\n",
              "      <td>basically theres family little boy jake thinks...</td>\n",
              "    </tr>\n",
              "    <tr>\n",
              "      <th>4</th>\n",
              "      <td>Petter Mattei's \"Love in the Time of Money\" is...</td>\n",
              "      <td>positive</td>\n",
              "      <td>petter matteis love time money visually stunni...</td>\n",
              "    </tr>\n",
              "  </tbody>\n",
              "</table>\n",
              "</div>"
            ],
            "text/plain": [
              "                                              review sentiment  \\\n",
              "0  One of the other reviewers has mentioned that ...  positive   \n",
              "1  A wonderful little production. <br /><br />The...  positive   \n",
              "2  I thought this was a wonderful way to spend ti...  positive   \n",
              "3  Basically there's a family where a little boy ...  negative   \n",
              "4  Petter Mattei's \"Love in the Time of Money\" is...  positive   \n",
              "\n",
              "                                     cleaned_reviews  \n",
              "0  one reviewers mentioned watching 1 oz episode ...  \n",
              "1  wonderful little production filming technique ...  \n",
              "2  thought wonderful way spend time hot summer we...  \n",
              "3  basically theres family little boy jake thinks...  \n",
              "4  petter matteis love time money visually stunni...  "
            ]
          },
          "execution_count": 4,
          "metadata": {},
          "output_type": "execute_result"
        }
      ],
      "source": [
        "def data_preprocessing(text):\n",
        "    text = text.lower()\n",
        "    text = re.sub('<.*?>', '', text) # Remove HTML from text\n",
        "    text = ''.join([c for c in text if c not in string.punctuation]) # Remove punctuation\n",
        "    text = [word for word in text.split() if word not in stop_words]  # Remove stop words\n",
        "    text = ' '.join(text)\n",
        "    return text\n",
        "\n",
        "df['cleaned_reviews'] = df['review'].apply(data_preprocessing)\n",
        "df.head()"
      ]
    },
    {
      "cell_type": "markdown",
      "metadata": {
        "id": "KRuizoEk0abi"
      },
      "source": [
        "### <font color='blue'>**Tokenize**</font>\n",
        "- Create Vocab to Int mapping dictionary\n",
        "- In most of the NLP tasks, we create an index mapping dictionary in such a way that frequently occurring words are assigned lower indexes. One of the most common way of doing this is to use Counter method from Collections library."
      ]
    },
    {
      "cell_type": "code",
      "execution_count": 5,
      "metadata": {
        "id": "HEAoacJV0etq"
      },
      "outputs": [],
      "source": [
        "corpus = [word for text in df['cleaned_reviews'] for word in text.split()]\n",
        "count_words = Counter(corpus)   # Count occurence of each words\n",
        "sorted_words = count_words.most_common()"
      ]
    },
    {
      "cell_type": "code",
      "execution_count": 6,
      "metadata": {},
      "outputs": [
        {
          "name": "stdout",
          "output_type": "stream",
          "text": [
            "['one', 'reviewers', 'mentioned', 'watching', '1']\n"
          ]
        },
        {
          "data": {
            "text/plain": [
              "[('movie', 83506),\n",
              " ('film', 74462),\n",
              " ('one', 50366),\n",
              " ('like', 38825),\n",
              " ('good', 28483)]"
            ]
          },
          "execution_count": 6,
          "metadata": {},
          "output_type": "execute_result"
        }
      ],
      "source": [
        "print(corpus[:5])\n",
        "sorted_words[:5]"
      ]
    },
    {
      "cell_type": "code",
      "execution_count": 7,
      "metadata": {
        "colab": {
          "base_uri": "https://localhost:8080/",
          "height": 470
        },
        "id": "j_M820ON06Hv",
        "outputId": "b9cb5e10-a1ed-45fc-dfb3-25c4eb553e17"
      },
      "outputs": [
        {
          "data": {
            "image/png": "[encoded data removed]",
            "text/plain": [
              "<Figure size 1200x500 with 1 Axes>"
            ]
          },
          "metadata": {},
          "output_type": "display_data"
        }
      ],
      "source": [
        "keys = []\n",
        "values = []\n",
        "for key, value in sorted_words[:20]:\n",
        "    keys.append(key)\n",
        "    values.append(value)\n",
        "\n",
        "plt.figure(figsize=(12, 5))\n",
        "plt.bar(keys, values)\n",
        "plt.title('Top 20 most common words', size=15)\n",
        "plt.show()"
      ]
    },
    {
      "cell_type": "markdown",
      "metadata": {},
      "source": [
        "### <font color='blue'>**Mapping**</font>"
      ]
    },
    {
      "cell_type": "code",
      "execution_count": 8,
      "metadata": {
        "colab": {
          "base_uri": "https://localhost:8080/"
        },
        "id": "4OSAIA9f09iA",
        "outputId": "24470120-3ad5-4448-d980-faa285012f3f"
      },
      "outputs": [
        {
          "name": "stdout",
          "output_type": "stream",
          "text": [
            "[[3, 1809, 941, 56, 398, 3216, 286, 349, 3024, 107, 482, 471, 7412, 19, 57, 3097, 3216, 5384, 14831, 50, 473, 180, 107, 549, 52, 1605, 41, 8024, 5580, 11453, 41, 2358, 5834, 5492, 1339, 276, 473, 3259, 246, 233, 60896, 353, 3216, 11120, 240, 15438, 6674, 2418, 939, 60897, 2482, 1247, 24496, 422, 4557, 2375, 1080, 6877, 2828, 12558, 298, 60898, 16892, 213, 4901, 3569, 422, 236, 83230, 8153, 39824, 14832, 4989, 7605, 2318, 16893, 60899, 224, 8951, 7194, 12973, 8403, 33774, 34, 126, 21145, 7, 45, 166, 1173, 41, 551, 91, 159, 154, 436, 2842, 704, 84, 1144, 4165, 2352, 975, 704, 1282, 704, 83231, 58, 853, 87, 19, 286, 43, 103, 3097, 1451, 2067, 288, 45, 1422, 174, 1336, 1122, 3216, 88, 9930, 213, 1949, 1961, 473, 473, 7674, 6878, 4782, 13673, 2798, 31538, 6770, 13673, 380, 500, 14, 140, 13, 9589, 633, 694, 6770, 543, 1080, 19845, 551, 439, 809, 1860, 1080, 444, 56, 3216, 98, 302, 3602, 3115, 83232, 14, 1083, 3862, 392]]\n"
          ]
        }
      ],
      "source": [
        "vocab_to_int = {w:i+1 for i, (w,c) in enumerate(sorted_words)}\n",
        "\n",
        "reviews_int = []\n",
        "for text in df['cleaned_reviews']:\n",
        "    r = [vocab_to_int[word] for word in text.split()]  # Convert each review text into integer\n",
        "    reviews_int.append(r)\n",
        "print(reviews_int[:1])\n",
        "df['Review int'] = reviews_int                      # (5000,)"
      ]
    },
    {
      "cell_type": "code",
      "execution_count": 9,
      "metadata": {},
      "outputs": [
        {
          "data": {
            "text/html": [
              "<div>\n",
              "<style scoped>\n",
              "    .dataframe tbody tr th:only-of-type {\n",
              "        vertical-align: middle;\n",
              "    }\n",
              "\n",
              "    .dataframe tbody tr th {\n",
              "        vertical-align: top;\n",
              "    }\n",
              "\n",
              "    .dataframe thead th {\n",
              "        text-align: right;\n",
              "    }\n",
              "</style>\n",
              "<table border=\"1\" class=\"dataframe\">\n",
              "  <thead>\n",
              "    <tr style=\"text-align: right;\">\n",
              "      <th></th>\n",
              "      <th>review</th>\n",
              "      <th>sentiment</th>\n",
              "      <th>cleaned_reviews</th>\n",
              "      <th>Review int</th>\n",
              "    </tr>\n",
              "  </thead>\n",
              "  <tbody>\n",
              "    <tr>\n",
              "      <th>0</th>\n",
              "      <td>One of the other reviewers has mentioned that ...</td>\n",
              "      <td>positive</td>\n",
              "      <td>one reviewers mentioned watching 1 oz episode ...</td>\n",
              "      <td>[3, 1809, 941, 56, 398, 3216, 286, 349, 3024, ...</td>\n",
              "    </tr>\n",
              "    <tr>\n",
              "      <th>1</th>\n",
              "      <td>A wonderful little production. &lt;br /&gt;&lt;br /&gt;The...</td>\n",
              "      <td>positive</td>\n",
              "      <td>wonderful little production filming technique ...</td>\n",
              "      <td>[277, 37, 252, 1234, 2863, 17758, 83233, 1501,...</td>\n",
              "    </tr>\n",
              "    <tr>\n",
              "      <th>2</th>\n",
              "      <td>I thought this was a wonderful way to spend ti...</td>\n",
              "      <td>positive</td>\n",
              "      <td>thought wonderful way spend time hot summer we...</td>\n",
              "      <td>[96, 277, 26, 988, 8, 782, 1348, 2347, 1065, 8...</td>\n",
              "    </tr>\n",
              "    <tr>\n",
              "      <th>3</th>\n",
              "      <td>Basically there's a family where a little boy ...</td>\n",
              "      <td>negative</td>\n",
              "      <td>basically theres family little boy jake thinks...</td>\n",
              "      <td>[572, 124, 136, 37, 327, 3493, 1071, 124, 908,...</td>\n",
              "    </tr>\n",
              "    <tr>\n",
              "      <th>4</th>\n",
              "      <td>Petter Mattei's \"Love in the Time of Money\" is...</td>\n",
              "      <td>positive</td>\n",
              "      <td>petter matteis love time money visually stunni...</td>\n",
              "      <td>[83238, 33775, 35, 8, 187, 2020, 1251, 2, 29, ...</td>\n",
              "    </tr>\n",
              "    <tr>\n",
              "      <th>...</th>\n",
              "      <td>...</td>\n",
              "      <td>...</td>\n",
              "      <td>...</td>\n",
              "      <td>...</td>\n",
              "    </tr>\n",
              "    <tr>\n",
              "      <th>49995</th>\n",
              "      <td>I thought this movie did a down right good job...</td>\n",
              "      <td>positive</td>\n",
              "      <td>thought movie right good job wasnt creative or...</td>\n",
              "      <td>[96, 1, 107, 5, 186, 172, 1347, 109, 19, 867, ...</td>\n",
              "    </tr>\n",
              "    <tr>\n",
              "      <th>49996</th>\n",
              "      <td>Bad plot, bad dialogue, bad acting, idiotic di...</td>\n",
              "      <td>negative</td>\n",
              "      <td>bad plot bad dialogue bad acting idiotic direc...</td>\n",
              "      <td>[16, 38, 16, 296, 16, 36, 2839, 846, 515, 1431...</td>\n",
              "    </tr>\n",
              "    <tr>\n",
              "      <th>49997</th>\n",
              "      <td>I am a Catholic taught in parochial elementary...</td>\n",
              "      <td>negative</td>\n",
              "      <td>catholic taught parochial elementary schools n...</td>\n",
              "      <td>[3399, 4147, 42369, 8116, 4400, 8723, 4147, 56...</td>\n",
              "    </tr>\n",
              "    <tr>\n",
              "      <th>49998</th>\n",
              "      <td>I'm going to have to disagree with the previou...</td>\n",
              "      <td>negative</td>\n",
              "      <td>im going disagree previous comment side maltin...</td>\n",
              "      <td>[55, 70, 2856, 769, 800, 392, 11301, 3, 231, 9...</td>\n",
              "    </tr>\n",
              "    <tr>\n",
              "      <th>49999</th>\n",
              "      <td>No one expects the Star Trek movies to be high...</td>\n",
              "      <td>negative</td>\n",
              "      <td>one expects star trek movies high art fans exp...</td>\n",
              "      <td>[3, 5592, 235, 2008, 21, 213, 421, 345, 396, 1...</td>\n",
              "    </tr>\n",
              "  </tbody>\n",
              "</table>\n",
              "<p>50000 rows × 4 columns</p>\n",
              "</div>"
            ],
            "text/plain": [
              "                                                  review sentiment  \\\n",
              "0      One of the other reviewers has mentioned that ...  positive   \n",
              "1      A wonderful little production. <br /><br />The...  positive   \n",
              "2      I thought this was a wonderful way to spend ti...  positive   \n",
              "3      Basically there's a family where a little boy ...  negative   \n",
              "4      Petter Mattei's \"Love in the Time of Money\" is...  positive   \n",
              "...                                                  ...       ...   \n",
              "49995  I thought this movie did a down right good job...  positive   \n",
              "49996  Bad plot, bad dialogue, bad acting, idiotic di...  negative   \n",
              "49997  I am a Catholic taught in parochial elementary...  negative   \n",
              "49998  I'm going to have to disagree with the previou...  negative   \n",
              "49999  No one expects the Star Trek movies to be high...  negative   \n",
              "\n",
              "                                         cleaned_reviews  \\\n",
              "0      one reviewers mentioned watching 1 oz episode ...   \n",
              "1      wonderful little production filming technique ...   \n",
              "2      thought wonderful way spend time hot summer we...   \n",
              "3      basically theres family little boy jake thinks...   \n",
              "4      petter matteis love time money visually stunni...   \n",
              "...                                                  ...   \n",
              "49995  thought movie right good job wasnt creative or...   \n",
              "49996  bad plot bad dialogue bad acting idiotic direc...   \n",
              "49997  catholic taught parochial elementary schools n...   \n",
              "49998  im going disagree previous comment side maltin...   \n",
              "49999  one expects star trek movies high art fans exp...   \n",
              "\n",
              "                                              Review int  \n",
              "0      [3, 1809, 941, 56, 398, 3216, 286, 349, 3024, ...  \n",
              "1      [277, 37, 252, 1234, 2863, 17758, 83233, 1501,...  \n",
              "2      [96, 277, 26, 988, 8, 782, 1348, 2347, 1065, 8...  \n",
              "3      [572, 124, 136, 37, 327, 3493, 1071, 124, 908,...  \n",
              "4      [83238, 33775, 35, 8, 187, 2020, 1251, 2, 29, ...  \n",
              "...                                                  ...  \n",
              "49995  [96, 1, 107, 5, 186, 172, 1347, 109, 19, 867, ...  \n",
              "49996  [16, 38, 16, 296, 16, 36, 2839, 846, 515, 1431...  \n",
              "49997  [3399, 4147, 42369, 8116, 4400, 8723, 4147, 56...  \n",
              "49998  [55, 70, 2856, 769, 800, 392, 11301, 3, 231, 9...  \n",
              "49999  [3, 5592, 235, 2008, 21, 213, 421, 345, 396, 1...  \n",
              "\n",
              "[50000 rows x 4 columns]"
            ]
          },
          "execution_count": 9,
          "metadata": {},
          "output_type": "execute_result"
        }
      ],
      "source": [
        "df"
      ]
    },
    {
      "cell_type": "markdown",
      "metadata": {
        "id": "WdLw2ldG1gCS"
      },
      "source": [
        "### <font color='blue'>**Encode the labels**</font>"
      ]
    },
    {
      "cell_type": "code",
      "execution_count": 10,
      "metadata": {
        "colab": {
          "base_uri": "https://localhost:8080/",
          "height": 258
        },
        "id": "xfoGrI521fvc",
        "outputId": "061e815e-8bb3-495b-9431-ad71649e98ec"
      },
      "outputs": [
        {
          "data": {
            "text/html": [
              "<div>\n",
              "<style scoped>\n",
              "    .dataframe tbody tr th:only-of-type {\n",
              "        vertical-align: middle;\n",
              "    }\n",
              "\n",
              "    .dataframe tbody tr th {\n",
              "        vertical-align: top;\n",
              "    }\n",
              "\n",
              "    .dataframe thead th {\n",
              "        text-align: right;\n",
              "    }\n",
              "</style>\n",
              "<table border=\"1\" class=\"dataframe\">\n",
              "  <thead>\n",
              "    <tr style=\"text-align: right;\">\n",
              "      <th></th>\n",
              "      <th>review</th>\n",
              "      <th>sentiment</th>\n",
              "      <th>cleaned_reviews</th>\n",
              "      <th>Review int</th>\n",
              "    </tr>\n",
              "  </thead>\n",
              "  <tbody>\n",
              "    <tr>\n",
              "      <th>0</th>\n",
              "      <td>One of the other reviewers has mentioned that ...</td>\n",
              "      <td>1</td>\n",
              "      <td>one reviewers mentioned watching 1 oz episode ...</td>\n",
              "      <td>[3, 1809, 941, 56, 398, 3216, 286, 349, 3024, ...</td>\n",
              "    </tr>\n",
              "    <tr>\n",
              "      <th>1</th>\n",
              "      <td>A wonderful little production. &lt;br /&gt;&lt;br /&gt;The...</td>\n",
              "      <td>1</td>\n",
              "      <td>wonderful little production filming technique ...</td>\n",
              "      <td>[277, 37, 252, 1234, 2863, 17758, 83233, 1501,...</td>\n",
              "    </tr>\n",
              "    <tr>\n",
              "      <th>2</th>\n",
              "      <td>I thought this was a wonderful way to spend ti...</td>\n",
              "      <td>1</td>\n",
              "      <td>thought wonderful way spend time hot summer we...</td>\n",
              "      <td>[96, 277, 26, 988, 8, 782, 1348, 2347, 1065, 8...</td>\n",
              "    </tr>\n",
              "    <tr>\n",
              "      <th>3</th>\n",
              "      <td>Basically there's a family where a little boy ...</td>\n",
              "      <td>0</td>\n",
              "      <td>basically theres family little boy jake thinks...</td>\n",
              "      <td>[572, 124, 136, 37, 327, 3493, 1071, 124, 908,...</td>\n",
              "    </tr>\n",
              "    <tr>\n",
              "      <th>4</th>\n",
              "      <td>Petter Mattei's \"Love in the Time of Money\" is...</td>\n",
              "      <td>1</td>\n",
              "      <td>petter matteis love time money visually stunni...</td>\n",
              "      <td>[83238, 33775, 35, 8, 187, 2020, 1251, 2, 29, ...</td>\n",
              "    </tr>\n",
              "  </tbody>\n",
              "</table>\n",
              "</div>"
            ],
            "text/plain": [
              "                                              review  sentiment  \\\n",
              "0  One of the other reviewers has mentioned that ...          1   \n",
              "1  A wonderful little production. <br /><br />The...          1   \n",
              "2  I thought this was a wonderful way to spend ti...          1   \n",
              "3  Basically there's a family where a little boy ...          0   \n",
              "4  Petter Mattei's \"Love in the Time of Money\" is...          1   \n",
              "\n",
              "                                     cleaned_reviews  \\\n",
              "0  one reviewers mentioned watching 1 oz episode ...   \n",
              "1  wonderful little production filming technique ...   \n",
              "2  thought wonderful way spend time hot summer we...   \n",
              "3  basically theres family little boy jake thinks...   \n",
              "4  petter matteis love time money visually stunni...   \n",
              "\n",
              "                                          Review int  \n",
              "0  [3, 1809, 941, 56, 398, 3216, 286, 349, 3024, ...  \n",
              "1  [277, 37, 252, 1234, 2863, 17758, 83233, 1501,...  \n",
              "2  [96, 277, 26, 988, 8, 782, 1348, 2347, 1065, 8...  \n",
              "3  [572, 124, 136, 37, 327, 3493, 1071, 124, 908,...  \n",
              "4  [83238, 33775, 35, 8, 187, 2020, 1251, 2, 29, ...  "
            ]
          },
          "execution_count": 10,
          "metadata": {},
          "output_type": "execute_result"
        }
      ],
      "source": [
        "df['sentiment'] = df['sentiment'].apply(lambda x: 1 if x == 'positive' else 0)\n",
        "df.head()"
      ]
    },
    {
      "cell_type": "markdown",
      "metadata": {
        "id": "pmR7CSFi1xPo"
      },
      "source": [
        "### <font color='blue'>**Analyze Reviews Length**</font>"
      ]
    },
    {
      "cell_type": "code",
      "execution_count": 11,
      "metadata": {
        "colab": {
          "base_uri": "https://localhost:8080/",
          "height": 310
        },
        "id": "TNCVdrYR1nju",
        "outputId": "f0e31797-594b-4982-da4a-8a2b72a99046"
      },
      "outputs": [
        {
          "data": {
            "text/html": [
              "<div>\n",
              "<style scoped>\n",
              "    .dataframe tbody tr th:only-of-type {\n",
              "        vertical-align: middle;\n",
              "    }\n",
              "\n",
              "    .dataframe tbody tr th {\n",
              "        vertical-align: top;\n",
              "    }\n",
              "\n",
              "    .dataframe thead th {\n",
              "        text-align: right;\n",
              "    }\n",
              "</style>\n",
              "<table border=\"1\" class=\"dataframe\">\n",
              "  <thead>\n",
              "    <tr style=\"text-align: right;\">\n",
              "      <th></th>\n",
              "      <th>review</th>\n",
              "      <th>sentiment</th>\n",
              "      <th>cleaned_reviews</th>\n",
              "      <th>Review int</th>\n",
              "      <th>Review len</th>\n",
              "    </tr>\n",
              "  </thead>\n",
              "  <tbody>\n",
              "    <tr>\n",
              "      <th>0</th>\n",
              "      <td>One of the other reviewers has mentioned that ...</td>\n",
              "      <td>1</td>\n",
              "      <td>one reviewers mentioned watching 1 oz episode ...</td>\n",
              "      <td>[3, 1809, 941, 56, 398, 3216, 286, 349, 3024, ...</td>\n",
              "      <td>168</td>\n",
              "    </tr>\n",
              "    <tr>\n",
              "      <th>1</th>\n",
              "      <td>A wonderful little production. &lt;br /&gt;&lt;br /&gt;The...</td>\n",
              "      <td>1</td>\n",
              "      <td>wonderful little production filming technique ...</td>\n",
              "      <td>[277, 37, 252, 1234, 2863, 17758, 83233, 1501,...</td>\n",
              "      <td>84</td>\n",
              "    </tr>\n",
              "    <tr>\n",
              "      <th>2</th>\n",
              "      <td>I thought this was a wonderful way to spend ti...</td>\n",
              "      <td>1</td>\n",
              "      <td>thought wonderful way spend time hot summer we...</td>\n",
              "      <td>[96, 277, 26, 988, 8, 782, 1348, 2347, 1065, 8...</td>\n",
              "      <td>86</td>\n",
              "    </tr>\n",
              "    <tr>\n",
              "      <th>3</th>\n",
              "      <td>Basically there's a family where a little boy ...</td>\n",
              "      <td>0</td>\n",
              "      <td>basically theres family little boy jake thinks...</td>\n",
              "      <td>[572, 124, 136, 37, 327, 3493, 1071, 124, 908,...</td>\n",
              "      <td>67</td>\n",
              "    </tr>\n",
              "    <tr>\n",
              "      <th>4</th>\n",
              "      <td>Petter Mattei's \"Love in the Time of Money\" is...</td>\n",
              "      <td>1</td>\n",
              "      <td>petter matteis love time money visually stunni...</td>\n",
              "      <td>[83238, 33775, 35, 8, 187, 2020, 1251, 2, 29, ...</td>\n",
              "      <td>125</td>\n",
              "    </tr>\n",
              "  </tbody>\n",
              "</table>\n",
              "</div>"
            ],
            "text/plain": [
              "                                              review  sentiment  \\\n",
              "0  One of the other reviewers has mentioned that ...          1   \n",
              "1  A wonderful little production. <br /><br />The...          1   \n",
              "2  I thought this was a wonderful way to spend ti...          1   \n",
              "3  Basically there's a family where a little boy ...          0   \n",
              "4  Petter Mattei's \"Love in the Time of Money\" is...          1   \n",
              "\n",
              "                                     cleaned_reviews  \\\n",
              "0  one reviewers mentioned watching 1 oz episode ...   \n",
              "1  wonderful little production filming technique ...   \n",
              "2  thought wonderful way spend time hot summer we...   \n",
              "3  basically theres family little boy jake thinks...   \n",
              "4  petter matteis love time money visually stunni...   \n",
              "\n",
              "                                          Review int  Review len  \n",
              "0  [3, 1809, 941, 56, 398, 3216, 286, 349, 3024, ...         168  \n",
              "1  [277, 37, 252, 1234, 2863, 17758, 83233, 1501,...          84  \n",
              "2  [96, 277, 26, 988, 8, 782, 1348, 2347, 1065, 8...          86  \n",
              "3  [572, 124, 136, 37, 327, 3493, 1071, 124, 908,...          67  \n",
              "4  [83238, 33775, 35, 8, 187, 2020, 1251, 2, 29, ...         125  "
            ]
          },
          "execution_count": 11,
          "metadata": {},
          "output_type": "execute_result"
        }
      ],
      "source": [
        "review_len = [len(x) for x in reviews_int]\n",
        "df['Review len'] = review_len\n",
        "df.head()"
      ]
    },
    {
      "cell_type": "code",
      "execution_count": 12,
      "metadata": {
        "colab": {
          "base_uri": "https://localhost:8080/",
          "height": 610
        },
        "id": "nQ4cmKPW15qu",
        "outputId": "2e769069-fe03-437a-e865-cd18ac07b39e"
      },
      "outputs": [
        {
          "name": "stdout",
          "output_type": "stream",
          "text": [
            "count    50000.000000\n",
            "mean       119.855700\n",
            "std         90.096619\n",
            "min          3.000000\n",
            "25%         64.000000\n",
            "50%         89.000000\n",
            "75%        146.000000\n",
            "max       1429.000000\n",
            "Name: Review len, dtype: float64\n"
          ]
        },
        {
          "data": {
            "image/png": "[encoded data removed]",
            "text/plain": [
              "<Figure size 640x480 with 1 Axes>"
            ]
          },
          "metadata": {},
          "output_type": "display_data"
        }
      ],
      "source": [
        "print(df['Review len'].describe())\n",
        "\n",
        "df['Review len'].hist()\n",
        "plt.title('Review length distribution', size=15)\n",
        "plt.show()"
      ]
    },
    {
      "cell_type": "markdown",
      "metadata": {
        "id": "ncR1r2M_6WIG"
      },
      "source": [
        "### <font color='blue'>**Padding / Truncating**</font>\n",
        "\n",
        "- RNN models typically require input sequences to have a consistent length.\n",
        "\n",
        "- To deal with both short and long reviews, we will pad or truncate all reviews to a specific length.\n",
        "\n",
        "- Define this length by Sequence Length. This sequence length is same as number of time steps for LSTM layer.\n",
        "\n",
        "- For reviews shorter than seq_length, we will pad with 0s.\n",
        "\n",
        "- For reviews longer than seq_length we will truncate them to the pre-defined sequence length."
      ]
    },
    {
      "cell_type": "code",
      "execution_count": 13,
      "metadata": {
        "id": "9B_0MfK16s6T"
      },
      "outputs": [],
      "source": [
        "def Padding(review_int, seq_len):\n",
        "    '''\n",
        "    Return features of review_ints, where each review is padded with 0's or truncated to the input seq_length.\n",
        "    '''\n",
        "    features = np.zeros((len(review_int), seq_len), dtype = int)\n",
        "    for i, review in enumerate(review_int):\n",
        "        if len(review) <= seq_len:\n",
        "            zeros = list(np.zeros(seq_len - len(review)))\n",
        "            new = zeros + review\n",
        "        else:\n",
        "            new = review[: seq_len]\n",
        "        features[i, :] = np.array(new)\n",
        "    return features"
      ]
    },
    {
      "cell_type": "code",
      "execution_count": 14,
      "metadata": {
        "colab": {
          "base_uri": "https://localhost:8080/"
        },
        "id": "VGnMAhuO6NV_",
        "outputId": "1efd2495-c362-4fbd-f8ff-78a807418052"
      },
      "outputs": [
        {
          "name": "stdout",
          "output_type": "stream",
          "text": [
            "[    0     0     0     0     0     0     0     0     0     0     0     0\n",
            "     0     0     0     0     0     0     0     0     0     0     0     0\n",
            "     0     0     0     0     0     0     0     0     3  1809   941    56\n",
            "   398  3216   286   349  3024   107   482   471  7412    19    57  3097\n",
            "  3216  5384 14831    50   473   180   107   549    52  1605    41  8024\n",
            "  5580 11453    41  2358  5834  5492  1339   276   473  3259   246   233\n",
            " 60896   353  3216 11120   240 15438  6674  2418   939 60897  2482  1247\n",
            " 24496   422  4557  2375  1080  6877  2828 12558   298 60898 16892   213\n",
            "  4901  3569   422   236 83230  8153 39824 14832  4989  7605  2318 16893\n",
            " 60899   224  8951  7194 12973  8403 33774    34   126 21145     7    45\n",
            "   166  1173    41   551    91   159   154   436  2842   704    84  1144\n",
            "  4165  2352   975   704  1282   704 83231    58   853    87    19   286\n",
            "    43   103  3097  1451  2067   288    45  1422   174  1336  1122  3216\n",
            "    88  9930   213  1949  1961   473   473  7674  6878  4782 13673  2798\n",
            " 31538  6770 13673   380   500    14   140    13  9589   633   694  6770\n",
            "   543  1080 19845   551   439   809  1860  1080   444    56  3216    98\n",
            "   302  3602  3115 83232    14  1083  3862   392]\n"
          ]
        }
      ],
      "source": [
        "features = Padding(reviews_int, 200)\n",
        "print(features[0, :])"
      ]
    },
    {
      "cell_type": "markdown",
      "metadata": {
        "id": "KJ23Tb2mMowW"
      },
      "source": [
        "## <font color='blue'>**Training, Validation, Test Split**</font>"
      ]
    },
    {
      "cell_type": "code",
      "execution_count": 15,
      "metadata": {
        "id": "WS0zCIiRMsCa"
      },
      "outputs": [],
      "source": [
        "X_train, X_remain, y_train, y_remain = train_test_split(features, df['sentiment'].to_numpy(), test_size=0.2, random_state=1)\n",
        "\n",
        "X_valid, X_test, y_valid, y_test = train_test_split(X_remain, y_remain, test_size=0.5, random_state=1)"
      ]
    },
    {
      "cell_type": "code",
      "execution_count": 16,
      "metadata": {
        "colab": {
          "base_uri": "https://localhost:8080/"
        },
        "id": "EP1fXYDcNApY",
        "outputId": "063407d3-016b-4e71-ff80-56d5d58cc7ef"
      },
      "outputs": [
        {
          "name": "stdout",
          "output_type": "stream",
          "text": [
            "Trainig set size 40000\n",
            "Validation set size 5000\n",
            "Test set size 5000\n"
          ]
        }
      ],
      "source": [
        "print('Trainig set size', len(X_train))\n",
        "print('Validation set size', len(X_valid))\n",
        "print('Test set size', len(X_test))\n"
      ]
    },
    {
      "cell_type": "markdown",
      "metadata": {
        "id": "HVXHUaHvPE0S"
      },
      "source": [
        "## <font color='blue'>**Dataloaders and Batching**</font>"
      ]
    },
    {
      "cell_type": "code",
      "execution_count": 17,
      "metadata": {
        "id": "Tm9r7GAQPFnO"
      },
      "outputs": [],
      "source": [
        "# create tensor dataset\n",
        "train_data = TensorDataset(torch.from_numpy(X_train), torch.from_numpy(y_train))\n",
        "test_data = TensorDataset(torch.from_numpy(X_test), torch.from_numpy(y_test))\n",
        "valid_data = TensorDataset(torch.from_numpy(X_valid), torch.from_numpy(y_valid))\n",
        "\n",
        "# dataloaders\n",
        "batch_size = 32\n",
        "\n",
        "train_loader = DataLoader(train_data, shuffle=True, batch_size=batch_size)\n",
        "test_loader = DataLoader(test_data, shuffle=True, batch_size=batch_size)\n",
        "valid_loader = DataLoader(valid_data, shuffle=True, batch_size=batch_size)"
      ]
    },
    {
      "cell_type": "code",
      "execution_count": 18,
      "metadata": {
        "colab": {
          "base_uri": "https://localhost:8080/"
        },
        "id": "isR_ofHRPNhH",
        "outputId": "aa2a2cd8-81fc-4f05-9274-b267e891ee43"
      },
      "outputs": [
        {
          "name": "stdout",
          "output_type": "stream",
          "text": [
            "Number of training batches: 1250\n",
            "Number of test batches: 157\n",
            "Number of validation batches: 157\n"
          ]
        }
      ],
      "source": [
        "print('Number of training batches:', len(train_loader))\n",
        "print('Number of test batches:', len(test_loader))\n",
        "print('Number of validation batches:', len(valid_loader))"
      ]
    },
    {
      "cell_type": "code",
      "execution_count": 19,
      "metadata": {
        "colab": {
          "base_uri": "https://localhost:8080/"
        },
        "id": "PViF4e9yPO-v",
        "outputId": "1d28a0f6-032d-4ebc-f148-b29f46579634"
      },
      "outputs": [
        {
          "name": "stdout",
          "output_type": "stream",
          "text": [
            "Sample input size:  torch.Size([32, 200])\n",
            "Sample input: \n",
            " tensor([[    0,     0,     0,  ...,    22,    77,  3279],\n",
            "        [    0,     0,     0,  ...,  1582,     3,   123],\n",
            "        [    0,     0,     0,  ...,    44,   292, 39386],\n",
            "        ...,\n",
            "        [    0,     0,     0,  ...,   336,    54,  1433],\n",
            "        [    0,     0,     0,  ...,   356,   788, 33071],\n",
            "        [    2,  1308,  9256,  ...,  5235,  4214,   269]], dtype=torch.int32)\n",
            "Sample input: \n",
            " tensor([1, 0, 1, 1, 1, 1, 0, 0, 1, 0, 0, 1, 0, 1, 0, 0, 0, 0, 0, 1, 1, 0, 0, 1,\n",
            "        0, 1, 1, 1, 0, 1, 1, 1])\n",
            "Sample input label size: \n",
            " torch.Size([32])\n"
          ]
        }
      ],
      "source": [
        "# obtain one batch of training data\n",
        "dataiter = iter(train_loader)\n",
        "sample_x, sample_y = next(dataiter)\n",
        "\n",
        "print('Sample input size: ', sample_x.size()) # batch_size, seq_length\n",
        "print('Sample input: \\n', sample_x)\n",
        "print('Sample input: \\n', sample_y)\n",
        "print('Sample input label size: \\n', sample_y.size())"
      ]
    },
    {
      "cell_type": "markdown",
      "metadata": {
        "id": "E9yvgbNkSEvs"
      },
      "source": [
        "## <font color='blue'>**Define the Model Class**</font>"
      ]
    },
    {
      "cell_type": "code",
      "execution_count": 20,
      "metadata": {
        "id": "D8Cf589NSGLH"
      },
      "outputs": [],
      "source": [
        "class sentimentLSTM(nn.Module):\n",
        "    \"\"\"\n",
        "    The LSTM model used to perform Sentiment analysis.\n",
        "    \"\"\"\n",
        "\n",
        "    def __init__(self, vocab_size, output_size, embedding_dim, hidden_dim, n_layers, drop_prob=0.5):\n",
        "        \"\"\"\n",
        "        Initialize the model by setting up the layers.\n",
        "        \"\"\"\n",
        "        super().__init__()\n",
        "\n",
        "        self.output_size = output_size\n",
        "        self.hidden_dim = hidden_dim\n",
        "        self.n_layers = n_layers\n",
        "\n",
        "        # Embedding and LSTM layers\n",
        "        self.embedding = nn.Embedding(vocab_size, embedding_dim)  # to map discrete categorical inputs (like word indices or class labels) into dense, low-dimensional continuous vector spaces. This allows the model to capture semantic meaning and relationships between categories.\n",
        "        self.lstm = nn.LSTM(embedding_dim, hidden_dim, n_layers, dropout=drop_prob, batch_first=True)\n",
        "\n",
        "        # Dropout layer\n",
        "        self.dropout = nn.Dropout(0.3)\n",
        "\n",
        "        # Linear and sigmoid layers\n",
        "        self.fc = nn.Linear(hidden_dim, output_size)\n",
        "        self.sigmoid = nn.Sigmoid()\n",
        "\n",
        "    def forward(self, x, hidden):\n",
        "        \"\"\"\n",
        "        Perform a forward pass of our model on some input and hidden state.\n",
        "        \"\"\"\n",
        "        batch_size = x.size(0)\n",
        "\n",
        "        #embedding and lstm_out\n",
        "        embeds = self.embedding(x)\n",
        "        lstm_out, hidden = self.lstm(embeds, hidden)\n",
        "\n",
        "        #stack up lstm outputs\n",
        "        lstm_out = lstm_out.contiguous().view(-1, self.hidden_dim)\n",
        "\n",
        "        # Dropout and fully connected layer\n",
        "        out = self.dropout(lstm_out)\n",
        "        out = self.fc(out)\n",
        "\n",
        "        #sigmoid function\n",
        "        sig_out = self.sigmoid(out)\n",
        "\n",
        "        # reshape to be batch size first\n",
        "        sig_out = sig_out.view(batch_size, -1)\n",
        "        sig_out = sig_out[:, -1] # get last batch of labels\n",
        "\n",
        "        return sig_out, hidden\n",
        "\n",
        "    def init_hidden(self, batch_size):\n",
        "        ''' Initializes hidden state '''\n",
        "        # Create two new tensors with sizes n_layers x batch_size x hidden_dim,\n",
        "        # initialized to zero, for hidden state and cell state of LSTM\n",
        "        h0 = torch.zeros((self.n_layers,batch_size,self.hidden_dim)).to(device)\n",
        "        c0 = torch.zeros((self.n_layers,batch_size,self.hidden_dim)).to(device)\n",
        "        hidden = (h0,c0)\n",
        "        return hidden"
      ]
    },
    {
      "cell_type": "code",
      "execution_count": 21,
      "metadata": {
        "colab": {
          "base_uri": "https://localhost:8080/"
        },
        "id": "y9nELO-zUeqb",
        "outputId": "691fa40d-81ab-4d72-e544-be44484f5435"
      },
      "outputs": [
        {
          "name": "stdout",
          "output_type": "stream",
          "text": [
            "GPU is available\n",
            "sentimentLSTM(\n",
            "  (embedding): Embedding(222610, 64)\n",
            "  (lstm): LSTM(64, 256, num_layers=2, batch_first=True, dropout=0.5)\n",
            "  (dropout): Dropout(p=0.3, inplace=False)\n",
            "  (fc): Linear(in_features=256, out_features=1, bias=True)\n",
            "  (sigmoid): Sigmoid()\n",
            ")\n"
          ]
        }
      ],
      "source": [
        "is_cuda = torch.cuda.is_available()\n",
        "\n",
        "# If GPU available\n",
        "if is_cuda:\n",
        "    device = torch.device(\"cuda\")\n",
        "    print(\"GPU is available\")\n",
        "else:\n",
        "    device = torch.device(\"cpu\")\n",
        "    print(\"GPU not available, CPU used \\n\")\n",
        "\n",
        "# Instantiate the model w/ hyperparams\n",
        "vocab_size = len(vocab_to_int) + 1\n",
        "output_size = 1\n",
        "embedding_dim = 64\n",
        "hidden_dim = 256\n",
        "n_layers = 2\n",
        "\n",
        "model = sentimentLSTM(vocab_size, output_size, embedding_dim, hidden_dim, n_layers)\n",
        "model = model.to(device)\n",
        "\n",
        "print(model)"
      ]
    },
    {
      "cell_type": "markdown",
      "metadata": {
        "id": "bS5MvISuX5mH"
      },
      "source": [
        "## <font color='blue'>**Training Loop**</font>"
      ]
    },
    {
      "cell_type": "code",
      "execution_count": 22,
      "metadata": {
        "id": "aQnFQl7NU4vC"
      },
      "outputs": [
        {
          "name": "stdout",
          "output_type": "stream",
          "text": [
            "Epoch 1\n",
            "train_loss : 0.5985564096212387 val_loss : 0.44657180738297236\n",
            "train_accuracy : 66.6125 val_accuracy : 78.92\n",
            "Validation loss decreased (inf --> 0.446572).  Saving model ...\n",
            "==================================================\n",
            "Epoch 2\n",
            "train_loss : 0.3558467940211296 val_loss : 0.32846145222710954\n",
            "train_accuracy : 84.75 val_accuracy : 85.98\n",
            "Validation loss decreased (0.446572 --> 0.328461).  Saving model ...\n",
            "==================================================\n",
            "Epoch 3\n",
            "train_loss : 0.2479639279395342 val_loss : 0.30222208375573917\n",
            "train_accuracy : 90.3175 val_accuracy : 87.14\n",
            "Validation loss decreased (0.328461 --> 0.302222).  Saving model ...\n",
            "==================================================\n",
            "Epoch 4\n",
            "train_loss : 0.17819027681797742 val_loss : 0.31501933054369724\n",
            "train_accuracy : 93.55499999999999 val_accuracy : 87.12\n",
            "==================================================\n",
            "Epoch 5\n",
            "train_loss : 0.12525197248384357 val_loss : 0.3616723547790461\n",
            "train_accuracy : 95.6975 val_accuracy : 86.33999999999999\n",
            "==================================================\n"
          ]
        }
      ],
      "source": [
        "lr=0.001\n",
        "\n",
        "criterion = nn.BCELoss()\n",
        "\n",
        "optimizer = torch.optim.Adam(model.parameters(), lr=lr)\n",
        "\n",
        "# function to predict accuracy\n",
        "def acc(pred,label):\n",
        "    pred = torch.round(pred.squeeze())\n",
        "    return torch.sum(pred == label.squeeze()).item()\n",
        "\n",
        "clip = 5\n",
        "epochs = 5\n",
        "valid_loss_min = np.inf\n",
        "\n",
        "epoch_tr_loss,epoch_vl_loss = [],[]\n",
        "epoch_tr_acc,epoch_vl_acc = [],[]\n",
        "\n",
        "torch.cuda.empty_cache()\n",
        "\n",
        "for epoch in range(epochs):\n",
        "    train_losses = []\n",
        "    train_acc = 0.0\n",
        "\n",
        "    model.train()\n",
        "    for inputs, labels in train_loader:\n",
        "\n",
        "\n",
        "        inputs, labels = inputs.to(device), labels.to(device)\n",
        "        # Creating new variables for the hidden state, otherwise\n",
        "        # we'd backprop through the entire training history\n",
        "        # initialize hidden state\n",
        "        h = model.init_hidden(inputs.size(0))\n",
        "        h_ = tuple([each.data for each in h])\n",
        "\n",
        "        model.zero_grad()\n",
        "        output,h = model(inputs,h_)\n",
        "\n",
        "        # calculate the loss and perform backprop\n",
        "        loss = criterion(output.squeeze(), labels.float())\n",
        "        loss.backward()\n",
        "        train_losses.append(loss.item())\n",
        "\n",
        "        # calculating accuracy\n",
        "        accuracy = acc(output,labels)\n",
        "        train_acc += accuracy\n",
        "\n",
        "        #`clip_grad_norm` helps prevent the exploding gradient problem in RNNs / LSTMs.\n",
        "        nn.utils.clip_grad_norm_(model.parameters(), clip)\n",
        "        optimizer.step()\n",
        "\n",
        "\n",
        "    ### Validation\n",
        "    val_losses = []\n",
        "    val_acc = 0.0\n",
        "    model.eval()\n",
        "    for inputs, labels in valid_loader:\n",
        "        \n",
        "        val_h = model.init_hidden(inputs.size(0))\n",
        "        va_h = tuple([each.data for each in val_h])\n",
        "\n",
        "        inputs, labels = inputs.to(device), labels.to(device)\n",
        "\n",
        "        output, val_h = model(inputs, va_h)\n",
        "        val_loss = criterion(output.squeeze(), labels.float())\n",
        "\n",
        "        val_losses.append(val_loss.item())\n",
        "\n",
        "        accuracy = acc(output,labels)\n",
        "        val_acc += accuracy\n",
        "\n",
        "    epoch_train_loss = np.mean(train_losses)\n",
        "    epoch_val_loss = np.mean(val_losses)\n",
        "    epoch_train_acc = train_acc/len(train_loader.dataset)\n",
        "    epoch_val_acc = val_acc/len(valid_loader.dataset)\n",
        "    epoch_tr_loss.append(epoch_train_loss)\n",
        "    epoch_vl_loss.append(epoch_val_loss)\n",
        "    epoch_tr_acc.append(epoch_train_acc)\n",
        "    epoch_vl_acc.append(epoch_val_acc)\n",
        "    print(f'Epoch {epoch+1}')\n",
        "    print(f'train_loss : {epoch_train_loss} val_loss : {epoch_val_loss}')\n",
        "    print(f'train_accuracy : {epoch_train_acc*100} val_accuracy : {epoch_val_acc*100}')\n",
        "\n",
        "    # Directory check and creation\n",
        "    save_path = '../working/state_dict.pt'\n",
        "    directory = os.path.dirname(save_path)\n",
        "    if not os.path.exists(directory):\n",
        "        os.makedirs(directory)\n",
        "\n",
        "    if epoch_val_loss <= valid_loss_min:\n",
        "        # torch.save(model.state_dict(), '../working/state_dict.pt')\n",
        "        torch.save(model.state_dict(), save_path)\n",
        "        print('Validation loss decreased ({:.6f} --> {:.6f}).  Saving model ...'.format(valid_loss_min,epoch_val_loss))\n",
        "        valid_loss_min = epoch_val_loss\n",
        "    print(25*'==')"
      ]
    },
    {
      "cell_type": "markdown",
      "metadata": {
        "id": "CLV2FAi4YQUw"
      },
      "source": [
        "## <font color = 'blue'>**Testing**</font>"
      ]
    },
    {
      "cell_type": "code",
      "execution_count": 23,
      "metadata": {
        "id": "5Onve393YR5z"
      },
      "outputs": [
        {
          "name": "stdout",
          "output_type": "stream",
          "text": [
            "Test loss: 0.320\n",
            "Test accuracy: 0.880\n"
          ]
        }
      ],
      "source": [
        "# Get test data loss and accuracy\n",
        "\n",
        "test_losses = [] # track loss\n",
        "num_correct = 0\n",
        "\n",
        "model.eval()\n",
        "\n",
        "# iterate over test data\n",
        "for inputs, labels in test_loader:\n",
        "\n",
        "    # Creating new variables for the hidden state, otherwise\n",
        "    # we'd backprop through the entire training history\n",
        "\n",
        "    # init hidden state\n",
        "    test_h = model.init_hidden(inputs.size(0))\n",
        "\n",
        "    tes_h = tuple([each.data for each in test_h])\n",
        "\n",
        "    inputs, labels = inputs.to(device), labels.to(device)\n",
        "\n",
        "    output, test_h = model(inputs, tes_h)\n",
        "\n",
        "    # calculate loss\n",
        "    test_loss = criterion(output.squeeze(), labels.float())\n",
        "    test_losses.append(test_loss.item())\n",
        "\n",
        "    # convert output probabilities to predicted class (0 or 1)\n",
        "    pred = torch.round(output.squeeze())  # rounds to the nearest integer\n",
        "\n",
        "    # compare predictions to true label\n",
        "    correct_tensor = pred.eq(labels.float().view_as(pred))\n",
        "    correct = np.squeeze(correct_tensor.cpu().numpy())\n",
        "    num_correct += np.sum(correct)\n",
        "\n",
        "\n",
        "# -- stats! -- ##\n",
        "# avg test loss\n",
        "print(\"Test loss: {:.3f}\".format(np.mean(test_losses)))\n",
        "\n",
        "# accuracy over all test data\n",
        "test_acc = num_correct/len(test_loader.dataset)\n",
        "print(\"Test accuracy: {:.3f}\".format(test_acc))"
      ]
    },
    {
      "cell_type": "code",
      "execution_count": 24,
      "metadata": {},
      "outputs": [],
      "source": [
        "from torch.cuda.amp import autocast\n",
        "def predict_text(text):\n",
        "        # Create a DataFrame with a single column 'reviews'\n",
        "        sample_df = pd.DataFrame({'review': [text]})\n",
        "        sample_df['cleaned_reviews'] = sample_df['review'].apply(data_preprocessing)\n",
        "\n",
        "        review_integer = []\n",
        "        for text in sample_df['cleaned_reviews']:\n",
        "                r = [vocab_to_int[word] for word in text.split()]  # Convert each review text into integer\n",
        "                review_integer.append(r)\n",
        "\n",
        "        sample_df['Review int'] = review_integer\n",
        "        features = Padding(review_integer, 200)\n",
        "        inference_loader = DataLoader(features, shuffle=True, batch_size=50)\n",
        "\n",
        "        # init hidden state\n",
        "        # batch_size = 1\n",
        "        # inference_h = model.init_hidden(batch_size)\n",
        "\n",
        "        model.eval()\n",
        "        for inputs in inference_loader:\n",
        "\n",
        "                inf_h = model.init_hidden(inputs.size(0))\n",
        "                inference_h = tuple([each.data for each in inf_h])\n",
        "\n",
        "                inputs = inputs.to(device)\n",
        "\n",
        "                output, inference_h = model(inputs, inference_h)\n",
        "                pred = output.item()\n",
        "        \n",
        "        return  pred"
      ]
    },
    {
      "cell_type": "code",
      "execution_count": 25,
      "metadata": {},
      "outputs": [
        {
          "name": "stdout",
          "output_type": "stream",
          "text": [
            "I bought this film at Blockbuster for $3.00, because it sounded interesting (a bit Ranma-esque, with the idea of someone dragging around a skeleton), because there was a cute girl in a mini-skirt on the back, and because there was a Restricted Viewing sticker on it. I thought it was going to be a sweet or at least sincere coming of age story with a weird indie edge. I was 100% wrong.<br /><br />Having watched it, I have to wonder how it got the restricted sticker, since there is hardly any foul language, little violence, and the closest thing to nudity (Honestly! I don't usually go around hoping for it!) is when the girl is in her nightgown and you see her panties (you see her panties a lot in this movie, because no matter what, she's wearing a miniskirt of some sort). Even the anti-religious humor is tame (and lame, caricatured, insincere, derivative, unoriginal, and worst of all not funny in the slightest--it would be better just to listen to Ray Stevens' \"Would Jesus Wear a Rolex on His Television Show\"). This would barely qualify as PG-13 (it is Not Rated), but Blockbuster refuses to let anyone under the age of 17 rent this--as if it was pornographic. Any little kid could go in there and rent the edited version of Requiem for a Dream, but they insist that Zack and Reba is worse.<br /><br />It is, but not in that way.<br /><br />In a way, this worries me--the only thing left that could offend people is the idea of the suicide at the beginning. If anybody needs to see movies with honestly portrayed suicides (not this one, but better ones like The Virgin Suicides), it's teenagers. If both of those movies were rated R purely because of the suicide aspect, then I have little chance of turning a story I've been writing into a PG-13 movie (the main characters are eleven and a half and twelve). Suicide is one of the top three leading causes of death in teenagers (I think it's number 2), so chances are that most teens have been or will be affected by it.<br /><br />Just say no to this movie, though. 2/10.\n",
            "======================================================================\n",
            "Actual sentiment is  : 0\n",
            "======================================================================\n",
            "Predicted sentiment is negative\n"
          ]
        }
      ],
      "source": [
        "index = 35\n",
        "print(df['review'][index])\n",
        "print('='*70)\n",
        "print(f'Actual sentiment is  : {df[\"sentiment\"][index]}')\n",
        "print('='*70)\n",
        "pro = predict_text(df['review'][index])\n",
        "status = \"positive\" if pro > 0.5 else \"negative\"\n",
        "# pro = (1 - pro) if status == \"negative\" else pro\n",
        "print(f'Predicted sentiment is {status}')"
      ]
    },
    {
      "cell_type": "code",
      "execution_count": 29,
      "metadata": {},
      "outputs": [
        {
          "name": "stdout",
          "output_type": "stream",
          "text": [
            "Taut and organically gripping, Edward Dmytryk's Crossfire is a distinctive suspense thriller, an unlikely \"message\" movie using the look and devices of the noir cycle.<br /><br />Bivouacked in Washington, DC, a company of soldiers cope with their restlessness by hanging out in bars. Three of them end up at a stranger's apartment where Robert Ryan, drunk and belligerent, beats their host (Sam Levene) to death because he happens to be Jewish. Police detective Robert Young investigates with the help of Robert Mitchum, who's assigned to Ryan's outfit. Suspicion falls on the second of the three (George Cooper), who has vanished. Ryan slays the third buddy (Steve Brodie) to insure his silence before Young closes in.<br /><br />Abetted by a superior script by John Paxton, Dmytryk draws precise performances from his three starring Bobs. Ryan, naturally, does his prototypical Angry White Male (and to the hilt), while Mitchum underplays with his characteristic alert nonchalance (his role, however, is not central); Young may never have been better. Gloria Grahame gives her first fully-fledged rendition of the smart-mouthed, vulnerable tramp, and, as a sad sack who's leeched into her life, Paul Kelly haunts us in a small, peripheral role that he makes memorable.<br /><br />The politically engaged Dmytryk perhaps inevitably succumbs to sermonizing, but it's pretty much confined to Young's reminiscence of how his Irish grandfather died at the hands of bigots a century earlier (thus, incidentally, stretching chronology to the limit). At least there's no attempt to render an explanation, however glib, of why Ryan hates Jews (and hillbillies and...).<br /><br />Curiously, Crossfire survives even the major change wrought upon it -- the novel it's based on (Richard Brooks' The Brick Foxhole) dealt with a gay-bashing murder. But homosexuality in 1947 was still Beyond The Pale. News of the Holocaust had, however, begun to emerge from the ashes of Europe, so Hollywood felt emboldened to register its protest against anti-Semitism (the studios always quaked at the prospect of offending any potential ticket buyer).<br /><br />But while the change from homophobia to anti-Semitism works in general, the specifics don't fit so smoothly. The victim's chatting up a lonesome, drunk young soldier then inviting him back home looks odd, even though (or especially since) there's a girlfriend in tow. It raises the question whether this scenario was retained inadvertently or left in as a discreet tip-off to the original engine generating Ryan's murderous rage.\n",
            "======================================================================\n",
            "Actual sentiment is  : 1\n",
            "======================================================================\n",
            "Predicted sentiment is positive\n"
          ]
        }
      ],
      "source": [
        "index = 30\n",
        "print(df['review'][index])\n",
        "print('='*70)\n",
        "print(f'Actual sentiment is  : {df[\"sentiment\"][index]}')\n",
        "print('='*70)\n",
        "pro = predict_text(df['review'][index])\n",
        "status = \"positive\" if pro > 0.5 else \"negative\"\n",
        "# pro = (1 - pro) if status == \"negative\" else pro\n",
        "print(f'Predicted sentiment is {status}')"
      ]
    },
    {
      "cell_type": "code",
      "execution_count": 26,
      "metadata": {},
      "outputs": [
        {
          "name": "stdout",
          "output_type": "stream",
          "text": [
            "I like the actors that work in it but I do not like this movie.\n",
            "Predicted sentiment is negative\n",
            "Probability 0.1872550994157791\n"
          ]
        }
      ],
      "source": [
        "sample_text = 'I like the actors that work in it but I do not like this movie.'\n",
        "\n",
        "prob = predict_text(sample_text)\n",
        "status = \"positive\" if prob > 0.5 else \"negative\"\n",
        "print(sample_text)\n",
        "print(f'Predicted sentiment is {status}')\n",
        "print('Probability', prob)"
      ]
    },
    {
      "cell_type": "code",
      "execution_count": 27,
      "metadata": {},
      "outputs": [
        {
          "name": "stdout",
          "output_type": "stream",
          "text": [
            "He has lack of sportsmanship and have not good qualities.\n",
            "Predicted sentiment is negative\n",
            "Probability 0.1582513004541397\n"
          ]
        }
      ],
      "source": [
        "sample_text = \"He has lack of sportsmanship and have not good qualities.\"\n",
        "\n",
        "\n",
        "prob = predict_text(sample_text)\n",
        "status = \"positive\" if prob > 0.5 else \"negative\"\n",
        "print(sample_text)\n",
        "print(f'Predicted sentiment is {status}')\n",
        "print('Probability', prob)"
      ]
    },
    {
      "cell_type": "code",
      "execution_count": null,
      "metadata": {},
      "outputs": [],
      "source": []
    }
  ],
  "metadata": {
    "accelerator": "GPU",
    "colab": {
      "gpuType": "T4",
      "provenance": [],
      "toc_visible": true
    },
    "kernelspec": {
      "display_name": "large_language_models",
      "language": "python",
      "name": "large_language_models"
    },
    "language_info": {
      "codemirror_mode": {
        "name": "ipython",
        "version": 3
      },
      "file_extension": ".py",
      "mimetype": "text/x-python",
      "name": "python",
      "nbconvert_exporter": "python",
      "pygments_lexer": "ipython3",
      "version": "3.12.2"
    }
  },
  "nbformat": 4,
  "nbformat_minor": 0
}
